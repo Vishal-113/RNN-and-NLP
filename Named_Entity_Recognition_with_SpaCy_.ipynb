{
  "nbformat": 4,
  "nbformat_minor": 0,
  "metadata": {
    "colab": {
      "provenance": [],
      "authorship_tag": "ABX9TyPkmB+T1oUNbtYfKYMWSF+9",
      "include_colab_link": true
    },
    "kernelspec": {
      "name": "python3",
      "display_name": "Python 3"
    },
    "language_info": {
      "name": "python"
    }
  },
  "cells": [
    {
      "cell_type": "markdown",
      "metadata": {
        "id": "view-in-github",
        "colab_type": "text"
      },
      "source": [
        "<a href=\"https://colab.research.google.com/github/Vishal-113/RNN-and-NLP/blob/main/Named_Entity_Recognition_with_SpaCy_.ipynb\" target=\"_parent\"><img src=\"https://colab.research.google.com/assets/colab-badge.svg\" alt=\"Open In Colab\"/></a>"
      ]
    },
    {
      "cell_type": "code",
      "execution_count": 1,
      "metadata": {
        "colab": {
          "base_uri": "https://localhost:8080/"
        },
        "id": "HUB5A6kqtTkK",
        "outputId": "c45cb866-179e-4634-c9f4-a7fb0731adfd"
      },
      "outputs": [
        {
          "output_type": "stream",
          "name": "stdout",
          "text": [
            "Entity: Barack Obama\n",
            "Label: PERSON\n",
            "Start: 0, End: 12\n",
            "\n",
            "Entity: 44th\n",
            "Label: ORDINAL\n",
            "Start: 27, End: 31\n",
            "\n",
            "Entity: the United States\n",
            "Label: GPE\n",
            "Start: 45, End: 62\n",
            "\n",
            "Entity: the Nobel Peace Prize\n",
            "Label: WORK_OF_ART\n",
            "Start: 71, End: 92\n",
            "\n",
            "Entity: 2009\n",
            "Label: DATE\n",
            "Start: 96, End: 100\n",
            "\n"
          ]
        }
      ],
      "source": [
        "import spacy\n",
        "\n",
        "# Load English NLP model\n",
        "nlp = spacy.load(\"en_core_web_sm\")\n",
        "\n",
        "# Input sentence\n",
        "text = \"Barack Obama served as the 44th President of the United States and won the Nobel Peace Prize in 2009.\"\n",
        "\n",
        "# Process the text\n",
        "doc = nlp(text)\n",
        "\n",
        "# Print each entity with its label and position\n",
        "for ent in doc.ents:\n",
        "    print(f\"Entity: {ent.text}\")\n",
        "    print(f\"Label: {ent.label_}\")\n",
        "    print(f\"Start: {ent.start_char}, End: {ent.end_char}\\n\")"
      ]
    }
  ]
}
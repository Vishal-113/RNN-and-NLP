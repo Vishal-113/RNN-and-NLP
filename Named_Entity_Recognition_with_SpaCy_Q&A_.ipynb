{
  "nbformat": 4,
  "nbformat_minor": 0,
  "metadata": {
    "colab": {
      "provenance": [],
      "authorship_tag": "ABX9TyO1t2D2QNXw97go0veTKylj",
      "include_colab_link": true
    },
    "kernelspec": {
      "name": "python3",
      "display_name": "Python 3"
    },
    "language_info": {
      "name": "python"
    }
  },
  "cells": [
    {
      "cell_type": "markdown",
      "metadata": {
        "id": "view-in-github",
        "colab_type": "text"
      },
      "source": [
        "<a href=\"https://colab.research.google.com/github/Vishal-113/RNN-and-NLP/blob/main/Named_Entity_Recognition_with_SpaCy_Q%26A_.ipynb\" target=\"_parent\"><img src=\"https://colab.research.google.com/assets/colab-badge.svg\" alt=\"Open In Colab\"/></a>"
      ]
    },
    {
      "cell_type": "markdown",
      "source": [
        "1. How does NER differ from POS tagging?\n",
        "Ans:  Think of a sentence like:\n",
        "\t\"Apple CEO Tim Cook visited New York in April.\"\n",
        "\n",
        "      POS tagging (Part-of-Speech tagging) tells us the role of each word in the sentence.\n",
        "      For example:\n",
        "\t   \"Apple\" → noun\n",
        "\t   \"visited\" → verb\n",
        "\t   \"in\" → preposition\n",
        "      NER (Named Entity Recognition) goes a step further and identifies real-world things in the sentence.\n",
        "      For example:\n",
        "\t\"Apple\" → ORGANIZATION\n",
        "\t\"Tim Cook\" → PERSON\n",
        "\t\"New York\" → LOCATION\n",
        "\t\"April\" → DATE\n",
        "\n",
        "     * POS tagging labels grammar.\n",
        "     * NER labels actual names, places, dates, etc.\n",
        "\n",
        "\n",
        "\n",
        "2. Describe two applications that use NER in the real world (e.g., financial news, search engines).\n",
        "Ans: Financial News Monitoring:\n",
        "\tBanks or stock traders use NER to extract entities like company names, stock tickers, or dates from headlines and articles.\n",
        "\t\tExample: From a headline like\n",
        "\t\t\t\"Tesla announces new battery tech in Berlin on June 10\"\n",
        "\t\tNER can pull:\n",
        "\t\t\t\"Tesla\" → ORGANIZATION\n",
        "\t\t\t\"Berlin\" → LOCATION\n",
        "\t\t\t\"June 10\" → DATE\n",
        "\tThis helps automate alerts and decision-making.\n",
        "\n",
        "\tSearch Engines & Assistants (Google, Siri):\n",
        "\tWhen you ask:\n",
        "\t\t\"Who is the president of France?\"\n",
        "\tNER helps the system recognize:\n",
        "\t\t\"president\" → title\n",
        "\t\t\"France\" → COUNTRY\n",
        "\tIt then finds and ranks content with those specific entities, improving search accuracy."
      ],
      "metadata": {
        "id": "5BP-99UtuHRf"
      }
    }
  ]
}
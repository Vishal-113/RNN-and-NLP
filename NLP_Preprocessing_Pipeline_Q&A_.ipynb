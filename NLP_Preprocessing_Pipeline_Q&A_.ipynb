{
  "nbformat": 4,
  "nbformat_minor": 0,
  "metadata": {
    "colab": {
      "provenance": [],
      "authorship_tag": "ABX9TyOV2VvTYbtzd9tFv7S1hGIu",
      "include_colab_link": true
    },
    "kernelspec": {
      "name": "python3",
      "display_name": "Python 3"
    },
    "language_info": {
      "name": "python"
    }
  },
  "cells": [
    {
      "cell_type": "markdown",
      "metadata": {
        "id": "view-in-github",
        "colab_type": "text"
      },
      "source": [
        "<a href=\"https://colab.research.google.com/github/Vishal-113/RNN-and-NLP/blob/main/NLP_Preprocessing_Pipeline_Q%26A_.ipynb\" target=\"_parent\"><img src=\"https://colab.research.google.com/assets/colab-badge.svg\" alt=\"Open In Colab\"/></a>"
      ]
    },
    {
      "cell_type": "markdown",
      "source": [
        " What is the difference between stemming and lemmatization?\n",
        "\n",
        "A: Stemming chops “running” to “runn” or “run” using simple rules, while lemmatization returns the correct base form “run” by analyzing grammar and context.\n",
        "\n",
        "Why might removing stop words be useful in some NLP tasks, and when might it actually be harmful?\n",
        "\n",
        "A: Removing stop words can reduce noise in tasks like document classification, but it can harm performance in sentiment analysis or question answering by eliminating key words like “not” or “when\n"
      ],
      "metadata": {
        "id": "5tN44KiOzjo7"
      }
    }
  ]
}
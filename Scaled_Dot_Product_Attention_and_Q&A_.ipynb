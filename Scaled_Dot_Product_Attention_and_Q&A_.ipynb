{
  "nbformat": 4,
  "nbformat_minor": 0,
  "metadata": {
    "colab": {
      "provenance": [],
      "authorship_tag": "ABX9TyPJq8xP6qfumnqkfw8XUppf",
      "include_colab_link": true
    },
    "kernelspec": {
      "name": "python3",
      "display_name": "Python 3"
    },
    "language_info": {
      "name": "python"
    }
  },
  "cells": [
    {
      "cell_type": "markdown",
      "metadata": {
        "id": "view-in-github",
        "colab_type": "text"
      },
      "source": [
        "<a href=\"https://colab.research.google.com/github/Vishal-113/RNN-and-NLP/blob/main/Scaled_Dot_Product_Attention_and_Q%26A_.ipynb\" target=\"_parent\"><img src=\"https://colab.research.google.com/assets/colab-badge.svg\" alt=\"Open In Colab\"/></a>"
      ]
    },
    {
      "cell_type": "code",
      "source": [
        "import numpy as np\n",
        "\n",
        "def scaled_dot_product_attention(Q, K, V):\n",
        "    # Step 1: Dot product of Q and K transpose\n",
        "    matmul_qk = np.matmul(Q, K.T)\n",
        "\n",
        "    # Step 2: Scale by sqrt(d)\n",
        "    d_k = K.shape[-1]\n",
        "    scaled_attention_logits = matmul_qk / np.sqrt(d_k)\n",
        "\n",
        "    # Step 3: Softmax to get attention weights\n",
        "    attention_weights = np.exp(scaled_attention_logits)\n",
        "    attention_weights /= np.sum(attention_weights, axis=-1, keepdims=True)\n",
        "\n",
        "    # Step 4: Multiply weights with V\n",
        "    output = np.matmul(attention_weights, V)\n",
        "\n",
        "    return output, attention_weights\n",
        "\n",
        "# Test inputs\n",
        "Q = np.array([[1, 0, 1, 0], [0, 1, 0, 1]])\n",
        "K = np.array([[1, 0, 1, 0], [0, 1, 0, 1]])\n",
        "V = np.array([[1, 2, 3, 4], [5, 6, 7, 8]])\n",
        "\n",
        "output, attention_weights = scaled_dot_product_attention(Q, K, V)\n",
        "\n",
        "print(\"Attention Weights:\\n\", attention_weights)\n",
        "print(\"\\nOutput:\\n\", output)"
      ],
      "metadata": {
        "colab": {
          "base_uri": "https://localhost:8080/"
        },
        "id": "1dG-o-Qfunex",
        "outputId": "c3dd1f60-37b7-456c-fd1f-600e3d45b70a"
      },
      "execution_count": 2,
      "outputs": [
        {
          "output_type": "stream",
          "name": "stdout",
          "text": [
            "Attention Weights:\n",
            " [[0.73105858 0.26894142]\n",
            " [0.26894142 0.73105858]]\n",
            "\n",
            "Output:\n",
            " [[2.07576569 3.07576569 4.07576569 5.07576569]\n",
            " [3.92423431 4.92423431 5.92423431 6.92423431]]\n"
          ]
        }
      ]
    },
    {
      "cell_type": "markdown",
      "source": [
        "1. Why do we divide the attention score by √d in scaled dot-product attention?\n",
        "Ans: It’s a normalization trick to keep the attention stable.\n",
        "     When computing attention scores (i.e., Q · Kᵀ), the result can become very large, especially when the dimension d of the vectors is high.\n",
        "\t1.Large dot products → very large numbers going into the softmax.\n",
        "\t2.That makes softmax outputs very sharp — meaning one word gets almost all the attention, and others get nearly zero.\n",
        "\t3.This hurts learning by making gradients too small to adjust during training (a problem called vanishing gradients).\n",
        "     *Dividing by √d keeps the values in a reasonable range, leading to:\n",
        "\t1.Smoother softmax outputs\n",
        "\t2.More stable gradients\n",
        "\t3.Better learning overall\n",
        "\n",
        "\n",
        "2. How does self-attention help the model understand relationships between words in a sentence?\n",
        "Ans: Self-attention allows every word in a sentence to look at (or \"attend to\") every other word, including itself. This helps the model understand context and relationships.\n",
        "     For example, in the sentence:\n",
        "\t“The cat sat on the mat because it was tired.”\n",
        "     When processing \"it\", self-attention allows the model to look back at \"cat\" to understand what \"it\" refers to.\n",
        "     When processing \"mat\", the model can focus on \"sat\" or \"on\" to better understand the spatial meaning.\n",
        "\n",
        "     Self-attention captures context by dynamically weighting which words are important for understanding each word's meaning — regardless of position."
      ],
      "metadata": {
        "id": "t7xB5JG5u4aY"
      }
    }
  ]
}